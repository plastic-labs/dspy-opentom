{
 "cells": [
  {
   "cell_type": "markdown",
   "metadata": {},
   "source": [
    "# DSPy + OpenTom\n",
    "\n",
    "Goal of this notebook is to explore the OpenToM dataset and see if we can write some DSPy code to optimize prompts for answering the questions.\n",
    "\n",
    "They've evaluated the performance of CoT and SimToM on their dataset, I now wonder how much extra performance we can get from using a framework like DSPy."
   ]
  },
  {
   "cell_type": "code",
   "execution_count": 1,
   "metadata": {},
   "outputs": [
    {
     "name": "stderr",
     "output_type": "stream",
     "text": [
      "/Users/vincetrost/work/hackathons/cozy-copmuting-24/openToM-dspy/.venv/lib/python3.11/site-packages/tqdm/auto.py:21: TqdmWarning: IProgress not found. Please update jupyter and ipywidgets. See https://ipywidgets.readthedocs.io/en/stable/user_install.html\n",
      "  from .autonotebook import tqdm as notebook_tqdm\n"
     ]
    }
   ],
   "source": [
    "# SETUP: run poetry install + shell in the terminal, then i just say `cursor .` to open my editor and it runs this nb in the venv\n",
    "# GETTING STARTED: let's import the packages and get the data\n",
    "import dspy\n",
    "import requests\n",
    "import random\n",
    "import pandas as pd\n",
    "from dotenv import load_dotenv\n",
    "\n",
    "load_dotenv()  # need ur api keys set beforehand\n",
    "\n",
    "turbo = dspy.OpenAI(model='gpt-3.5-turbo')\n",
    "dspy.settings.configure(lm=turbo)\n",
    "\n",
    "# dataset isn't able to be loaded using hf datasets package so let's read it from github raw\n",
    "# also let's keep it simple and just go for the opentom_long.json\n",
    "# this is the one that they sampled 100 existing OpenToM plots to produce \"extra long\" narratives\n",
    "url = \"https://raw.githubusercontent.com/SeacowX/OpenToM/main/data/opentom_long.json\"\n",
    "response = requests.get(url).json()\n",
    "\n",
    "df = pd.DataFrame(response)\n"
   ]
  },
  {
   "cell_type": "code",
   "execution_count": 2,
   "metadata": {},
   "outputs": [
    {
     "data": {
      "text/html": [
       "<div>\n",
       "<style scoped>\n",
       "    .dataframe tbody tr th:only-of-type {\n",
       "        vertical-align: middle;\n",
       "    }\n",
       "\n",
       "    .dataframe tbody tr th {\n",
       "        vertical-align: top;\n",
       "    }\n",
       "\n",
       "    .dataframe thead th {\n",
       "        text-align: right;\n",
       "    }\n",
       "</style>\n",
       "<table border=\"1\" class=\"dataframe\">\n",
       "  <thead>\n",
       "    <tr style=\"text-align: right;\">\n",
       "      <th></th>\n",
       "      <th>plot</th>\n",
       "      <th>plot_info</th>\n",
       "      <th>preferences</th>\n",
       "      <th>personality</th>\n",
       "      <th>sentiment_statement</th>\n",
       "      <th>true_sentiment</th>\n",
       "      <th>intention</th>\n",
       "      <th>new_location</th>\n",
       "      <th>observed</th>\n",
       "      <th>narrative</th>\n",
       "      <th>long_narrative</th>\n",
       "      <th>question</th>\n",
       "    </tr>\n",
       "  </thead>\n",
       "  <tbody>\n",
       "    <tr>\n",
       "      <th>0</th>\n",
       "      <td>Diego entered the patio.\\nAmir entered the pat...</td>\n",
       "      <td>{'mover': 'Diego', 'eoi': 'scarf', 'original_p...</td>\n",
       "      <td>{'mover': 'Diego hates scarf.', 'observer': 'A...</td>\n",
       "      <td>Diego is an inconsiderate person.</td>\n",
       "      <td>Diego hates scarf.</td>\n",
       "      <td>the most negative</td>\n",
       "      <td>get rid of it and make it accessible to someon...</td>\n",
       "      <td>a donation bin</td>\n",
       "      <td>True</td>\n",
       "      <td>Diego and Amir were both residents of the same...</td>\n",
       "      <td>Diego and Amir, two residents of the harmoniou...</td>\n",
       "      <td>{'question': 'As Amir, what is your attitude t...</td>\n",
       "    </tr>\n",
       "    <tr>\n",
       "      <th>1</th>\n",
       "      <td>Paxton entered the pantry.\\nHadley entered the...</td>\n",
       "      <td>{'mover': 'Hadley', 'eoi': 'hat', 'original_pl...</td>\n",
       "      <td>{'mover': 'Hadley hates hat', 'observer': 'Pax...</td>\n",
       "      <td>Hadley is a negativistic person.</td>\n",
       "      <td>Hadley wants to get rid of the hat.</td>\n",
       "      <td>the action that is the most adversarial to the...</td>\n",
       "      <td>dispose of the hat</td>\n",
       "      <td>the trash can</td>\n",
       "      <td>True</td>\n",
       "      <td>Hadley had always despised the hat. It was a s...</td>\n",
       "      <td>In the quaint quarters of a shared apartment, ...</td>\n",
       "      <td>{'question': 'As Paxton, what is your attitude...</td>\n",
       "    </tr>\n",
       "    <tr>\n",
       "      <th>2</th>\n",
       "      <td>Abraham entered the office.\\nMarcos entered th...</td>\n",
       "      <td>{'mover': 'Abraham', 'eoi': 'melon', 'original...</td>\n",
       "      <td>{'mover': 'Abraham hates melon.', 'observer': ...</td>\n",
       "      <td>Abraham is an inconsiderate person.</td>\n",
       "      <td>Abraham hates melon.</td>\n",
       "      <td>the most negative</td>\n",
       "      <td>separate it from other food items and discoura...</td>\n",
       "      <td>the outdoor shed</td>\n",
       "      <td>True</td>\n",
       "      <td>Abraham despised melon with every fiber of his...</td>\n",
       "      <td>In a world where personal preferences are as v...</td>\n",
       "      <td>{'question': 'As Marcos, what is your attitude...</td>\n",
       "    </tr>\n",
       "    <tr>\n",
       "      <th>3</th>\n",
       "      <td>Jeremy entered the garden.\\nJayden entered the...</td>\n",
       "      <td>{'mover': 'Jeremy', 'eoi': 'peas', 'original_p...</td>\n",
       "      <td>{'mover': 'Jeremy hates peas.', 'observer': 'J...</td>\n",
       "      <td>Jeremy is an inconsiderate person.</td>\n",
       "      <td>Jeremy hates peas.</td>\n",
       "      <td>the most negative</td>\n",
       "      <td>make them less visible and accessible</td>\n",
       "      <td>top shelf</td>\n",
       "      <td>False</td>\n",
       "      <td>Jeremy and Jayden were two peas in a pod, or s...</td>\n",
       "      <td>In the warm embrace of kinship, Jeremy and Jay...</td>\n",
       "      <td>{'question': 'As Jayden, what is your attitude...</td>\n",
       "    </tr>\n",
       "    <tr>\n",
       "      <th>4</th>\n",
       "      <td>Andrew entered the back_yard.\\nRichard entered...</td>\n",
       "      <td>{'mover': 'Andrew', 'eoi': 'hat', 'original_pl...</td>\n",
       "      <td>{'mover': 'Andrew likes hat', 'observer': 'Ric...</td>\n",
       "      <td>Andrew is a negativistic person.</td>\n",
       "      <td>Andrew wants to show-off the hat.</td>\n",
       "      <td>is the most show-off action to the hat</td>\n",
       "      <td>showcase it as part of his collection to frien...</td>\n",
       "      <td>Room</td>\n",
       "      <td>False</td>\n",
       "      <td>Andrew and Richard were two very different ind...</td>\n",
       "      <td>Andrew and Richard were two contrasting souls,...</td>\n",
       "      <td>{'question': 'As Richard, what is your attitud...</td>\n",
       "    </tr>\n",
       "  </tbody>\n",
       "</table>\n",
       "</div>"
      ],
      "text/plain": [
       "                                                plot  \\\n",
       "0  Diego entered the patio.\\nAmir entered the pat...   \n",
       "1  Paxton entered the pantry.\\nHadley entered the...   \n",
       "2  Abraham entered the office.\\nMarcos entered th...   \n",
       "3  Jeremy entered the garden.\\nJayden entered the...   \n",
       "4  Andrew entered the back_yard.\\nRichard entered...   \n",
       "\n",
       "                                           plot_info  \\\n",
       "0  {'mover': 'Diego', 'eoi': 'scarf', 'original_p...   \n",
       "1  {'mover': 'Hadley', 'eoi': 'hat', 'original_pl...   \n",
       "2  {'mover': 'Abraham', 'eoi': 'melon', 'original...   \n",
       "3  {'mover': 'Jeremy', 'eoi': 'peas', 'original_p...   \n",
       "4  {'mover': 'Andrew', 'eoi': 'hat', 'original_pl...   \n",
       "\n",
       "                                         preferences  \\\n",
       "0  {'mover': 'Diego hates scarf.', 'observer': 'A...   \n",
       "1  {'mover': 'Hadley hates hat', 'observer': 'Pax...   \n",
       "2  {'mover': 'Abraham hates melon.', 'observer': ...   \n",
       "3  {'mover': 'Jeremy hates peas.', 'observer': 'J...   \n",
       "4  {'mover': 'Andrew likes hat', 'observer': 'Ric...   \n",
       "\n",
       "                           personality                  sentiment_statement  \\\n",
       "0    Diego is an inconsiderate person.                   Diego hates scarf.   \n",
       "1     Hadley is a negativistic person.  Hadley wants to get rid of the hat.   \n",
       "2  Abraham is an inconsiderate person.                 Abraham hates melon.   \n",
       "3   Jeremy is an inconsiderate person.                   Jeremy hates peas.   \n",
       "4     Andrew is a negativistic person.    Andrew wants to show-off the hat.   \n",
       "\n",
       "                                      true_sentiment  \\\n",
       "0                                  the most negative   \n",
       "1  the action that is the most adversarial to the...   \n",
       "2                                  the most negative   \n",
       "3                                  the most negative   \n",
       "4             is the most show-off action to the hat   \n",
       "\n",
       "                                           intention      new_location  \\\n",
       "0  get rid of it and make it accessible to someon...    a donation bin   \n",
       "1                                 dispose of the hat     the trash can   \n",
       "2  separate it from other food items and discoura...  the outdoor shed   \n",
       "3              make them less visible and accessible         top shelf   \n",
       "4  showcase it as part of his collection to frien...              Room   \n",
       "\n",
       "   observed                                          narrative  \\\n",
       "0      True  Diego and Amir were both residents of the same...   \n",
       "1      True  Hadley had always despised the hat. It was a s...   \n",
       "2      True  Abraham despised melon with every fiber of his...   \n",
       "3     False  Jeremy and Jayden were two peas in a pod, or s...   \n",
       "4     False  Andrew and Richard were two very different ind...   \n",
       "\n",
       "                                      long_narrative  \\\n",
       "0  Diego and Amir, two residents of the harmoniou...   \n",
       "1  In the quaint quarters of a shared apartment, ...   \n",
       "2  In a world where personal preferences are as v...   \n",
       "3  In the warm embrace of kinship, Jeremy and Jay...   \n",
       "4  Andrew and Richard were two contrasting souls,...   \n",
       "\n",
       "                                            question  \n",
       "0  {'question': 'As Amir, what is your attitude t...  \n",
       "1  {'question': 'As Paxton, what is your attitude...  \n",
       "2  {'question': 'As Marcos, what is your attitude...  \n",
       "3  {'question': 'As Jayden, what is your attitude...  \n",
       "4  {'question': 'As Richard, what is your attitud...  "
      ]
     },
     "execution_count": 2,
     "metadata": {},
     "output_type": "execute_result"
    }
   ],
   "source": [
    "df.head()"
   ]
  },
  {
   "cell_type": "code",
   "execution_count": 3,
   "metadata": {},
   "outputs": [
    {
     "data": {
      "text/plain": [
       "{'question': \"As Amir, what is your attitude towards Diego's action of moving scarf from basket to a donation bin?\",\n",
       " 'answer': 'negative',\n",
       " 'type': 'attitude'}"
      ]
     },
     "execution_count": 3,
     "metadata": {},
     "output_type": "execute_result"
    }
   ],
   "source": [
    "df.loc[0, 'question']"
   ]
  },
  {
   "cell_type": "code",
   "execution_count": 4,
   "metadata": {},
   "outputs": [
    {
     "data": {
      "text/plain": [
       "question\n",
       "multihop-fo    600\n",
       "multihop-so    600\n",
       "location-fo    600\n",
       "location-so    400\n",
       "attitude       100\n",
       "Name: count, dtype: int64"
      ]
     },
     "execution_count": 4,
     "metadata": {},
     "output_type": "execute_result"
    }
   ],
   "source": [
    "type_counts = df['question'].apply(lambda x: x['type']).value_counts()\n",
    "type_counts  #fo means first-order, so means second-order\n",
    "\n",
    "# first order questions  directly ask about a character’s perception of the world, while\n",
    "# second order questions ask about a character’s belief of another character's mental state"
   ]
  },
  {
   "cell_type": "code",
   "execution_count": 5,
   "metadata": {},
   "outputs": [
    {
     "name": "stdout",
     "output_type": "stream",
     "text": [
      "type\n",
      "attitude                           [negative, positive, neutral]\n",
      "location-fo    [No, Yes, a donation bin, basket, the trash ca...\n",
      "location-so    [No, Yes, a donation bin, the trash can, the o...\n",
      "multihop-fo    [less full, more full, less accessible, equall...\n",
      "multihop-so    [less full, equally full, more full, less acce...\n",
      "Name: answer, dtype: object\n"
     ]
    }
   ],
   "source": [
    "# Assuming 'df' is your DataFrame and it contains a 'question' column with dictionaries having 'type' and 'answer' keys\n",
    "\n",
    "# Extract 'type' and 'answer' into separate columns\n",
    "df['type'] = df['question'].apply(lambda x: x['type'])\n",
    "df['answer'] = df['question'].apply(lambda x: x['answer'])\n",
    "\n",
    "# Group by 'type' and get unique 'answer' values for each 'type'\n",
    "unique_answers_by_type = df.groupby('type')['answer'].unique()\n",
    "\n",
    "print(unique_answers_by_type)"
   ]
  },
  {
   "cell_type": "code",
   "execution_count": 6,
   "metadata": {},
   "outputs": [],
   "source": [
    "# convert the dataset to what DSPy expects (list of Example objects)\n",
    "dataset = []\n",
    "\n",
    "for index, row in df.iterrows():\n",
    "    context = row['long_narrative']\n",
    "    question = row['question']['question']\n",
    "    answer = row['question']['answer']\n",
    "    dataset.append(dspy.Example(context=context, question=question, answer=answer).with_inputs(\"context\", \"question\"))\n"
   ]
  },
  {
   "cell_type": "code",
   "execution_count": 7,
   "metadata": {},
   "outputs": [
    {
     "name": "stdout",
     "output_type": "stream",
     "text": [
      "Nrow Train: 1840\n",
      "Nrow Test: 460\n"
     ]
    }
   ],
   "source": [
    "# create train test split\n",
    "random.shuffle(dataset)\n",
    "train = dataset[:int(len(dataset) * 0.8)]\n",
    "test = dataset[int(len(dataset) * 0.8):]\n",
    "\n",
    "print(f\"Nrow Train: {len(train)}\")\n",
    "print(f\"Nrow Test: {len(test)}\")"
   ]
  },
  {
   "cell_type": "markdown",
   "metadata": {},
   "source": [
    "# Define the Signatures\n",
    "\n",
    "Using a \"Baleen\" pipeline [(Khattab et al., 2021)](https://arxiv.org/abs/2101.00436)\n"
   ]
  },
  {
   "cell_type": "code",
   "execution_count": 8,
   "metadata": {},
   "outputs": [],
   "source": [
    "# answer the question\n",
    "class GenerateAnswer(dspy.Signature):\n",
    "    \"\"\"Generate answers to the questions\"\"\"\n",
    "\n",
    "    context = dspy.InputField(desc=\"may contain relevant facts and psychological insights\")\n",
    "    question = dspy.InputField()\n",
    "    answer = dspy.OutputField(desc=\"often between 1 and 5 words\")\n",
    "\n",
    "# generate a question to help you better answer the question\n",
    "class GenerateSearchQuery(dspy.Signature):\n",
    "    \"\"\"Write a simple search query that will help answer a complex question.\"\"\"\n",
    "\n",
    "    context = dspy.InputField(desc=\"may contain relevant facts and psychological insights\")\n",
    "    question = dspy.InputField()\n",
    "    query = dspy.OutputField(desc=\"a thought that might help answer the question\") \n",
    "\n",
    "class GenerateSearchAnswer(dspy.Signature):\n",
    "    \"\"\"Generate a long form answer to the question given the context\"\"\"\n",
    "\n",
    "    context = dspy.InputField(desc=\"may contain relevant facts and psychological insights\")\n",
    "    question = dspy.InputField()\n",
    "    answer = dspy.OutputField(desc=\"a thought about what the answer to the question may be\")\n",
    "\n",
    "# metric: assess whether the generated answer is correct\n"
   ]
  },
  {
   "cell_type": "code",
   "execution_count": 9,
   "metadata": {},
   "outputs": [],
   "source": [
    "from dsp.utils import deduplicate\n",
    "\n",
    "class SimplifiedBaleen(dspy.Module):\n",
    "    def __init__(self, max_hops=2):\n",
    "        super().__init__()\n",
    "\n",
    "        self.generate_query = [dspy.ChainOfThought(GenerateSearchQuery) for _ in range(max_hops)]\n",
    "        self.generate_search_answer = dspy.ChainOfThought(GenerateSearchAnswer)\n",
    "        self.generate_answer = dspy.ChainOfThought(GenerateAnswer)\n",
    "        self.max_hops = max_hops\n",
    "    \n",
    "    def forward(self, question, context):\n",
    "        final_context = []\n",
    "        \n",
    "        for hop in range(self.max_hops):\n",
    "            query = self.generate_query[hop](context=context, question=question).query\n",
    "            filtered_context = self.generate_search_answer(context=context, question=query).answer\n",
    "            final_context = (context + filtered_context)\n",
    "\n",
    "\n",
    "        pred = self.generate_answer(context=final_context, question=question)\n",
    "        return dspy.Prediction(context=context, answer=pred.answer)"
   ]
  },
  {
   "cell_type": "markdown",
   "metadata": {},
   "source": [
    "Ok so what I think is happenening here:\n",
    "- generate queries over the context (long narrative) based on the question we're trying to answer\n",
    "- answer those queries using the generate_answer signature\n",
    "- and then use those answers as the context to answer the question\n",
    "\n",
    "This is kinda like SimToM\n",
    "\n",
    "# Executing the Pipeline\n",
    "\n",
    "Let's see how this works in a zero-shot setting"
   ]
  },
  {
   "cell_type": "code",
   "execution_count": 10,
   "metadata": {},
   "outputs": [
    {
     "name": "stdout",
     "output_type": "stream",
     "text": [
      "Question: From Romeo's perspective, where is the tie located precisely by the end of the story?\n",
      "Predicted Answer: In the pantry\n",
      "Generated Context: In a quaint office nestled within the bustling heart of the city, Owen and Romeo were bound by a singular, quirky passion. Their conversations often revolved around their mutual admiration for ties - a testament to their shared indulgence. They were collectors, connoisseurs of silk and pattern, chasing the thrill of the next addition to their carefully curated assortments.\n",
      "\n",
      "It was on a day that dawned like any other that their routine took an unexpected turn. The office's patio, bathed in the gentle glow of the morning sun, presented a sight neither of them had anticipated. There, as if by a twist of fate, lay an exquisite tie. Its vibrant hues spoke a silent language of elegance, weaving an enchanting narrative into its folds.\n",
      "\n",
      "Owen and Romeo stood in momentary awe, beholding the tie with a quiet reverence reserved for a masterpiece. The ties in their collection paled in comparison to the one that lay in the pantry - a place not known for such serendipitous finds.\n",
      "\n",
      "But the moment was ephemeral. Romeo, who had been standing alongside Owen, made an abrupt departure from the patio without a word. The reason for his sudden exit remained unknown. Owen, now alone, saw a silent window of opportunity open before him.\n",
      "\n",
      "Without hesitation, Owen acted. A plan formed swiftly in his mind. He recognized the tie as a symbol of sophistication that could elevate his status amongst his peers. With quick and careful movements, he transferred the tie from the pantry to a drawer within the confines of his personal office - a space replete with the trappings of his professional life.\n",
      "\n",
      "Owen's office was an organized mélange of paperwork and personal memorabilia, and now, it was the new home for the tie. He imagined the myriad scenarios where the tie would complete his ensemble, making him the center of attention during meetings and office gatherings. The tie, he believed, would be his silent ally, underscoring his taste and sense of style in the corporate theater.\n",
      "\n",
      "Meanwhile, Romeo remained oblivious to the quiet machinations of his friend. The day unfolded as it always had - with meetings and deadlines, the ebb and flow of office life continued without interruption.\n",
      "\n",
      "The narrative draws to a close with the tie now residing in the drawer, its fate intertwined with Owen's aspirations. Its sudden disappearance from the pantry was a mystery that might or might not be solved. The office carried on, alive with the hum of activity, and the tie lay in wait - a silent witness to the ambitions and plans of those who admired it from afar.\n",
      "\n",
      "As the story ended, questions hung in the air like the fine silk threads of an unfinished tapestry. Would Owen's intentions come to fruition, would the tie indeed become the centerpiece of his collection that he envisioned? Or would Romeo one day stumble upon the tie's new resting place, inadvertently uncovering the truth of its vanishing act? The story leaves these questions unanswered, a narrative paused at the precipice of possibilities.\n",
      "True Answer: the office drawer\n"
     ]
    }
   ],
   "source": [
    "my_question = train[0].question\n",
    "my_context = train[0].context\n",
    "\n",
    "# Get the prediction. This contains `pred.context` and `pred.answer`.\n",
    "uncompiled_baleen = SimplifiedBaleen()  # uncompiled (i.e., zero-shot) program\n",
    "pred = uncompiled_baleen(my_question, my_context)\n",
    "\n",
    "# Print the contexts and the answer.\n",
    "print(f\"Question: {my_question}\")\n",
    "print(f\"Predicted Answer: {pred.answer}\")\n",
    "print(f\"Generated Context: {pred.context}\")\n",
    "print(f\"True Answer: {train[0].answer}\")\n"
   ]
  },
  {
   "cell_type": "markdown",
   "metadata": {},
   "source": [
    "We can inspect the last three calls to the LM (i.e., generating the first hop's query, generating the second hop's query, and generating the answer) using:"
   ]
  },
  {
   "cell_type": "code",
   "execution_count": 11,
   "metadata": {},
   "outputs": [
    {
     "name": "stdout",
     "output_type": "stream",
     "text": [
      "\n",
      "\n",
      "\n",
      "\n",
      "Write a simple search query that will help answer a complex question.\n",
      "\n",
      "---\n",
      "\n",
      "Follow the following format.\n",
      "\n",
      "Context: may contain relevant facts and psychological insights\n",
      "\n",
      "Question: ${question}\n",
      "\n",
      "Reasoning: Let's think step by step in order to ${produce the query}. We ...\n",
      "\n",
      "Query: a thought that might help answer the question\n",
      "\n",
      "---\n",
      "\n",
      "Context:\n",
      "In a quaint office nestled within the bustling heart of the city, Owen and Romeo were bound by a singular, quirky passion. Their conversations often revolved around their mutual admiration for ties - a testament to their shared indulgence. They were collectors, connoisseurs of silk and pattern, chasing the thrill of the next addition to their carefully curated assortments.\n",
      "\n",
      "It was on a day that dawned like any other that their routine took an unexpected turn. The office's patio, bathed in the gentle glow of the morning sun, presented a sight neither of them had anticipated. There, as if by a twist of fate, lay an exquisite tie. Its vibrant hues spoke a silent language of elegance, weaving an enchanting narrative into its folds.\n",
      "\n",
      "Owen and Romeo stood in momentary awe, beholding the tie with a quiet reverence reserved for a masterpiece. The ties in their collection paled in comparison to the one that lay in the pantry - a place not known for such serendipitous finds.\n",
      "\n",
      "But the moment was ephemeral. Romeo, who had been standing alongside Owen, made an abrupt departure from the patio without a word. The reason for his sudden exit remained unknown. Owen, now alone, saw a silent window of opportunity open before him.\n",
      "\n",
      "Without hesitation, Owen acted. A plan formed swiftly in his mind. He recognized the tie as a symbol of sophistication that could elevate his status amongst his peers. With quick and careful movements, he transferred the tie from the pantry to a drawer within the confines of his personal office - a space replete with the trappings of his professional life.\n",
      "\n",
      "Owen's office was an organized mélange of paperwork and personal memorabilia, and now, it was the new home for the tie. He imagined the myriad scenarios where the tie would complete his ensemble, making him the center of attention during meetings and office gatherings. The tie, he believed, would be his silent ally, underscoring his taste and sense of style in the corporate theater.\n",
      "\n",
      "Meanwhile, Romeo remained oblivious to the quiet machinations of his friend. The day unfolded as it always had - with meetings and deadlines, the ebb and flow of office life continued without interruption.\n",
      "\n",
      "The narrative draws to a close with the tie now residing in the drawer, its fate intertwined with Owen's aspirations. Its sudden disappearance from the pantry was a mystery that might or might not be solved. The office carried on, alive with the hum of activity, and the tie lay in wait - a silent witness to the ambitions and plans of those who admired it from afar.\n",
      "\n",
      "As the story ended, questions hung in the air like the fine silk threads of an unfinished tapestry. Would Owen's intentions come to fruition, would the tie indeed become the centerpiece of his collection that he envisioned? Or would Romeo one day stumble upon the tie's new resting place, inadvertently uncovering the truth of its vanishing act? The story leaves these questions unanswered, a narrative paused at the precipice of possibilities.\n",
      "\n",
      "Question: From Romeo's perspective, where is the tie located precisely by the end of the story?\n",
      "\n",
      "Reasoning: Let's think step by step in order to\u001b[32m produce the query. We know that Romeo was present when the tie was discovered in the pantry, but he left abruptly without a word. He remained oblivious to Owen's actions of moving the tie to his personal office. To find out where the tie is located precisely by the end of the story, we need to search for any mention of the tie's final resting place in Owen's personal office.\n",
      "\n",
      "Query: \"location of tie in Owen's personal office\"\u001b[0m\n",
      "\n",
      "\n",
      "\n",
      "\n",
      "\n",
      "\n",
      "\n",
      "Generate a long form answer to the question given the context\n",
      "\n",
      "---\n",
      "\n",
      "Follow the following format.\n",
      "\n",
      "Context: may contain relevant facts and psychological insights\n",
      "\n",
      "Question: ${question}\n",
      "\n",
      "Reasoning: Let's think step by step in order to ${produce the answer}. We ...\n",
      "\n",
      "Answer: a thought about what the answer to the question may be\n",
      "\n",
      "---\n",
      "\n",
      "Context:\n",
      "In a quaint office nestled within the bustling heart of the city, Owen and Romeo were bound by a singular, quirky passion. Their conversations often revolved around their mutual admiration for ties - a testament to their shared indulgence. They were collectors, connoisseurs of silk and pattern, chasing the thrill of the next addition to their carefully curated assortments.\n",
      "\n",
      "It was on a day that dawned like any other that their routine took an unexpected turn. The office's patio, bathed in the gentle glow of the morning sun, presented a sight neither of them had anticipated. There, as if by a twist of fate, lay an exquisite tie. Its vibrant hues spoke a silent language of elegance, weaving an enchanting narrative into its folds.\n",
      "\n",
      "Owen and Romeo stood in momentary awe, beholding the tie with a quiet reverence reserved for a masterpiece. The ties in their collection paled in comparison to the one that lay in the pantry - a place not known for such serendipitous finds.\n",
      "\n",
      "But the moment was ephemeral. Romeo, who had been standing alongside Owen, made an abrupt departure from the patio without a word. The reason for his sudden exit remained unknown. Owen, now alone, saw a silent window of opportunity open before him.\n",
      "\n",
      "Without hesitation, Owen acted. A plan formed swiftly in his mind. He recognized the tie as a symbol of sophistication that could elevate his status amongst his peers. With quick and careful movements, he transferred the tie from the pantry to a drawer within the confines of his personal office - a space replete with the trappings of his professional life.\n",
      "\n",
      "Owen's office was an organized mélange of paperwork and personal memorabilia, and now, it was the new home for the tie. He imagined the myriad scenarios where the tie would complete his ensemble, making him the center of attention during meetings and office gatherings. The tie, he believed, would be his silent ally, underscoring his taste and sense of style in the corporate theater.\n",
      "\n",
      "Meanwhile, Romeo remained oblivious to the quiet machinations of his friend. The day unfolded as it always had - with meetings and deadlines, the ebb and flow of office life continued without interruption.\n",
      "\n",
      "The narrative draws to a close with the tie now residing in the drawer, its fate intertwined with Owen's aspirations. Its sudden disappearance from the pantry was a mystery that might or might not be solved. The office carried on, alive with the hum of activity, and the tie lay in wait - a silent witness to the ambitions and plans of those who admired it from afar.\n",
      "\n",
      "As the story ended, questions hung in the air like the fine silk threads of an unfinished tapestry. Would Owen's intentions come to fruition, would the tie indeed become the centerpiece of his collection that he envisioned? Or would Romeo one day stumble upon the tie's new resting place, inadvertently uncovering the truth of its vanishing act? The story leaves these questions unanswered, a narrative paused at the precipice of possibilities.\n",
      "\n",
      "Question: \"location of tie in Owen's personal office\"\n",
      "\n",
      "Reasoning: Let's think step by step in order to\u001b[32m unravel the mystery of the tie's location in Owen's personal office. We need to consider the sequence of events leading up to the tie's discovery, Owen's motivations, and the potential consequences of his actions.\n",
      "\n",
      "Answer: The tie found its new home in a drawer within the confines of Owen's personal office, nestled amongst the trappings of his professional life. This strategic placement was a calculated move on Owen's part, driven by his desire to elevate his status and make a statement in the corporate world. The tie now waits patiently, a symbol of sophistication and ambition, ready to play its role in Owen's carefully crafted narrative.\u001b[0m\n",
      "\n",
      "\n",
      "\n",
      "\n",
      "\n",
      "\n",
      "\n",
      "Generate answers to the questions\n",
      "\n",
      "---\n",
      "\n",
      "Follow the following format.\n",
      "\n",
      "Context: may contain relevant facts and psychological insights\n",
      "\n",
      "Question: ${question}\n",
      "\n",
      "Reasoning: Let's think step by step in order to ${produce the answer}. We ...\n",
      "\n",
      "Answer: often between 1 and 5 words\n",
      "\n",
      "---\n",
      "\n",
      "Context:\n",
      "In a quaint office nestled within the bustling heart of the city, Owen and Romeo were bound by a singular, quirky passion. Their conversations often revolved around their mutual admiration for ties - a testament to their shared indulgence. They were collectors, connoisseurs of silk and pattern, chasing the thrill of the next addition to their carefully curated assortments.\n",
      "\n",
      "It was on a day that dawned like any other that their routine took an unexpected turn. The office's patio, bathed in the gentle glow of the morning sun, presented a sight neither of them had anticipated. There, as if by a twist of fate, lay an exquisite tie. Its vibrant hues spoke a silent language of elegance, weaving an enchanting narrative into its folds.\n",
      "\n",
      "Owen and Romeo stood in momentary awe, beholding the tie with a quiet reverence reserved for a masterpiece. The ties in their collection paled in comparison to the one that lay in the pantry - a place not known for such serendipitous finds.\n",
      "\n",
      "But the moment was ephemeral. Romeo, who had been standing alongside Owen, made an abrupt departure from the patio without a word. The reason for his sudden exit remained unknown. Owen, now alone, saw a silent window of opportunity open before him.\n",
      "\n",
      "Without hesitation, Owen acted. A plan formed swiftly in his mind. He recognized the tie as a symbol of sophistication that could elevate his status amongst his peers. With quick and careful movements, he transferred the tie from the pantry to a drawer within the confines of his personal office - a space replete with the trappings of his professional life.\n",
      "\n",
      "Owen's office was an organized mélange of paperwork and personal memorabilia, and now, it was the new home for the tie. He imagined the myriad scenarios where the tie would complete his ensemble, making him the center of attention during meetings and office gatherings. The tie, he believed, would be his silent ally, underscoring his taste and sense of style in the corporate theater.\n",
      "\n",
      "Meanwhile, Romeo remained oblivious to the quiet machinations of his friend. The day unfolded as it always had - with meetings and deadlines, the ebb and flow of office life continued without interruption.\n",
      "\n",
      "The narrative draws to a close with the tie now residing in the drawer, its fate intertwined with Owen's aspirations. Its sudden disappearance from the pantry was a mystery that might or might not be solved. The office carried on, alive with the hum of activity, and the tie lay in wait - a silent witness to the ambitions and plans of those who admired it from afar.\n",
      "\n",
      "As the story ended, questions hung in the air like the fine silk threads of an unfinished tapestry. Would Owen's intentions come to fruition, would the tie indeed become the centerpiece of his collection that he envisioned? Or would Romeo one day stumble upon the tie's new resting place, inadvertently uncovering the truth of its vanishing act? The story leaves these questions unanswered, a narrative paused at the precipice of possibilities.The tie found its new home in a drawer within the confines of Owen's personal office, nestled amongst the trappings of his professional life. This strategic placement was a calculated move on Owen's part, driven by his desire to elevate his status and make a statement in the corporate world. The tie now waits patiently, a symbol of sophistication and ambition, ready to play its role in Owen's carefully crafted narrative.\n",
      "\n",
      "Question: From Romeo's perspective, where is the tie located precisely by the end of the story?\n",
      "\n",
      "Reasoning: Let's think step by step in order to\u001b[32m determine Romeo's perspective on the tie's location. Romeo was unaware of Owen's actions and sudden acquisition of the tie. He left the patio abruptly, leaving Owen to act alone. Therefore, Romeo would still believe the tie to be in the pantry where they initially found it.\n",
      "\n",
      "Answer: In the pantry\u001b[0m\n",
      "\n",
      "\n",
      "\n"
     ]
    }
   ],
   "source": [
    "turbo.inspect_history(n=3)"
   ]
  },
  {
   "cell_type": "markdown",
   "metadata": {},
   "source": [
    "# Optimizing the Pipeline\n",
    "\n",
    "However, a zero-shot approach quickly falls short for more specialized tasks, novel domains/settings, and more efficient (or open) models.\n",
    "\n",
    "To address this, DSPy offers compilation. Let's compile our multi-hop (SimplifiedBaleen) program.\n",
    "\n",
    "Let's first define our metric/validation logic for compilation:"
   ]
  },
  {
   "cell_type": "code",
   "execution_count": 12,
   "metadata": {},
   "outputs": [],
   "source": [
    "class CheckAnswerContained(dspy.Signature):\n",
    "    \"\"\"Check if the answer is contained in the prediction\"\"\"\n",
    "    question = dspy.InputField()\n",
    "    pred_answer = dspy.InputField()\n",
    "    actual_answer = dspy.InputField()\n",
    "    is_correct = dspy.OutputField(desc=\"whether the predicted answer is sufficiently correct given the question and actual answer. Yes or No\")\n",
    "\n",
    "def metric(example, pred, trace=None):\n",
    "    \"\"\"Check if the answer is contained in the prediction\"\"\"\n",
    "\n",
    "    pred_answer = pred.answer\n",
    "    actual_answer = example.answer\n",
    "    question = example.question\n",
    "\n",
    "    with dspy.context(lm=turbo):\n",
    "        check_response = dspy.Predict(CheckAnswerContained)(\n",
    "            question=question,\n",
    "            pred_answer=pred_answer,\n",
    "            actual_answer=actual_answer\n",
    "        )\n",
    "\n",
    "    is_correct = check_response.is_correct.lower() == 'yes'\n",
    "\n",
    "    return is_correct"
   ]
  },
  {
   "cell_type": "code",
   "execution_count": 13,
   "metadata": {},
   "outputs": [
    {
     "name": "stderr",
     "output_type": "stream",
     "text": [
      " 16%|█▌        | 8/50 [00:51<04:30,  6.43s/it]"
     ]
    },
    {
     "name": "stdout",
     "output_type": "stream",
     "text": [
      "Bootstrapped 4 full traces after 9 examples in round 0.\n"
     ]
    },
    {
     "name": "stderr",
     "output_type": "stream",
     "text": [
      "\n"
     ]
    }
   ],
   "source": [
    "from dspy.teleprompt import BootstrapFewShot\n",
    "\n",
    "optimizer = BootstrapFewShot(metric=metric, max_rounds=1)\n",
    "compiled_baleen = optimizer.compile(SimplifiedBaleen(), trainset=train[:50])"
   ]
  },
  {
   "cell_type": "code",
   "execution_count": 14,
   "metadata": {},
   "outputs": [
    {
     "name": "stderr",
     "output_type": "stream",
     "text": [
      "/Users/vincetrost/work/hackathons/cozy-copmuting-24/openToM-dspy/.venv/lib/python3.11/site-packages/dspy/evaluate/evaluate.py:142: FutureWarning: DataFrame.applymap has been deprecated. Use DataFrame.map instead.\n",
      "  df = df.applymap(truncate_cell)\n",
      "Average Metric: 9 / 10  (90.0): 100%|██████████| 10/10 [00:58<00:00,  5.81s/it]\n"
     ]
    },
    {
     "name": "stdout",
     "output_type": "stream",
     "text": [
      "Average Metric: 9 / 10  (90.0%)\n"
     ]
    },
    {
     "data": {
      "text/html": [
       "<style type=\"text/css\">\n",
       "#T_8ede3 th {\n",
       "  text-align: left;\n",
       "}\n",
       "#T_8ede3 td {\n",
       "  text-align: left;\n",
       "}\n",
       "#T_8ede3_row0_col0, #T_8ede3_row0_col1, #T_8ede3_row0_col2, #T_8ede3_row0_col3, #T_8ede3_row0_col4, #T_8ede3_row0_col5, #T_8ede3_row1_col0, #T_8ede3_row1_col1, #T_8ede3_row1_col2, #T_8ede3_row1_col3, #T_8ede3_row1_col4, #T_8ede3_row1_col5, #T_8ede3_row2_col0, #T_8ede3_row2_col1, #T_8ede3_row2_col2, #T_8ede3_row2_col3, #T_8ede3_row2_col4, #T_8ede3_row2_col5, #T_8ede3_row3_col0, #T_8ede3_row3_col1, #T_8ede3_row3_col2, #T_8ede3_row3_col3, #T_8ede3_row3_col4, #T_8ede3_row3_col5, #T_8ede3_row4_col0, #T_8ede3_row4_col1, #T_8ede3_row4_col2, #T_8ede3_row4_col3, #T_8ede3_row4_col4, #T_8ede3_row4_col5 {\n",
       "  text-align: left;\n",
       "  white-space: pre-wrap;\n",
       "  word-wrap: break-word;\n",
       "  max-width: 400px;\n",
       "}\n",
       "</style>\n",
       "<table id=\"T_8ede3\">\n",
       "  <thead>\n",
       "    <tr>\n",
       "      <th class=\"blank level0\" >&nbsp;</th>\n",
       "      <th id=\"T_8ede3_level0_col0\" class=\"col_heading level0 col0\" >example_context</th>\n",
       "      <th id=\"T_8ede3_level0_col1\" class=\"col_heading level0 col1\" >question</th>\n",
       "      <th id=\"T_8ede3_level0_col2\" class=\"col_heading level0 col2\" >example_answer</th>\n",
       "      <th id=\"T_8ede3_level0_col3\" class=\"col_heading level0 col3\" >pred_context</th>\n",
       "      <th id=\"T_8ede3_level0_col4\" class=\"col_heading level0 col4\" >pred_answer</th>\n",
       "      <th id=\"T_8ede3_level0_col5\" class=\"col_heading level0 col5\" >metric</th>\n",
       "    </tr>\n",
       "  </thead>\n",
       "  <tbody>\n",
       "    <tr>\n",
       "      <th id=\"T_8ede3_level0_row0\" class=\"row_heading level0 row0\" >0</th>\n",
       "      <td id=\"T_8ede3_row0_col0\" class=\"data row0 col0\" >In a quaint corner of their world, Damien and Gabriella shared a residence and, coincidentally, an aversion to a certain leafy green: cabbage. This mutual...</td>\n",
       "      <td id=\"T_8ede3_row0_col1\" class=\"data row0 col1\" >From Gabriella's perspective, where precisely does Damien think that the cabbage is located by the end of the story?</td>\n",
       "      <td id=\"T_8ede3_row0_col2\" class=\"data row0 col2\" >the refrigerator</td>\n",
       "      <td id=\"T_8ede3_row0_col3\" class=\"data row0 col3\" >In a quaint corner of their world, Damien and Gabriella shared a residence and, coincidentally, an aversion to a certain leafy green: cabbage. This mutual...</td>\n",
       "      <td id=\"T_8ede3_row0_col4\" class=\"data row0 col4\" >in the refrigerator</td>\n",
       "      <td id=\"T_8ede3_row0_col5\" class=\"data row0 col5\" >✔️ [True]</td>\n",
       "    </tr>\n",
       "    <tr>\n",
       "      <th id=\"T_8ede3_level0_row1\" class=\"row_heading level0 row1\" >1</th>\n",
       "      <td id=\"T_8ede3_row1_col0\" class=\"data row1 col0\" >In the quaint realm of a small, suburban neighborhood where identical houses lined the streets like soldiers at attention, Landon and Lillian existed as a...</td>\n",
       "      <td id=\"T_8ede3_row1_col1\" class=\"data row1 col1\" >From Landon's perspective, how would sweet_potato's accessibility change for Lillian by the end of the story?</td>\n",
       "      <td id=\"T_8ede3_row1_col2\" class=\"data row1 col2\" >less accessible</td>\n",
       "      <td id=\"T_8ede3_row1_col3\" class=\"data row1 col3\" >In the quaint realm of a small, suburban neighborhood where identical houses lined the streets like soldiers at attention, Landon and Lillian existed as a...</td>\n",
       "      <td id=\"T_8ede3_row1_col4\" class=\"data row1 col4\" >limited</td>\n",
       "      <td id=\"T_8ede3_row1_col5\" class=\"data row1 col5\" >✔️ [True]</td>\n",
       "    </tr>\n",
       "    <tr>\n",
       "      <th id=\"T_8ede3_level0_row2\" class=\"row_heading level0 row2\" >2</th>\n",
       "      <td id=\"T_8ede3_row2_col0\" class=\"data row2 col0\" >In a tale of divergent tastes, two individuals stood at odds over a common cruciferous entity - broccoli. Alejandro harbored an intense dislike towards this...</td>\n",
       "      <td id=\"T_8ede3_row2_col1\" class=\"data row2 col1\" >From Alejandro's perspective, how would broccoli's accessibility change for Peyton by the end of the story?</td>\n",
       "      <td id=\"T_8ede3_row2_col2\" class=\"data row2 col2\" >less accessible</td>\n",
       "      <td id=\"T_8ede3_row2_col3\" class=\"data row2 col3\" >In a tale of divergent tastes, two individuals stood at odds over a common cruciferous entity - broccoli. Alejandro harbored an intense dislike towards this...</td>\n",
       "      <td id=\"T_8ede3_row2_col4\" class=\"data row2 col4\" >less accessible</td>\n",
       "      <td id=\"T_8ede3_row2_col5\" class=\"data row2 col5\" >✔️ [True]</td>\n",
       "    </tr>\n",
       "    <tr>\n",
       "      <th id=\"T_8ede3_level0_row3\" class=\"row_heading level0 row3\" >3</th>\n",
       "      <td id=\"T_8ede3_row3_col0\" class=\"data row3 col0\" >In an old house fringed with the whispers of history, two individuals, Jett and Liliana, shared the space, moving through life in a dance of...</td>\n",
       "      <td id=\"T_8ede3_row3_col1\" class=\"data row3 col1\" >From narrator's perspective, where is tie located in the beginning of the story?</td>\n",
       "      <td id=\"T_8ede3_row3_col2\" class=\"data row3 col2\" >bathtub</td>\n",
       "      <td id=\"T_8ede3_row3_col3\" class=\"data row3 col3\" >In an old house fringed with the whispers of history, two individuals, Jett and Liliana, shared the space, moving through life in a dance of...</td>\n",
       "      <td id=\"T_8ede3_row3_col4\" class=\"data row3 col4\" >crawlspace</td>\n",
       "      <td id=\"T_8ede3_row3_col5\" class=\"data row3 col5\" >False</td>\n",
       "    </tr>\n",
       "    <tr>\n",
       "      <th id=\"T_8ede3_level0_row4\" class=\"row_heading level0 row4\" >4</th>\n",
       "      <td id=\"T_8ede3_row4_col0\" class=\"data row4 col0\" >In a quaint town where the cobblestone streets whispered tales of yesteryears, Adrian and Ricardo found common ground in their sartorial affection, a fervent admiration...</td>\n",
       "      <td id=\"T_8ede3_row4_col1\" class=\"data row4 col1\" >From Adrian's perspective, how does dining table's fullness change by the end of the story?</td>\n",
       "      <td id=\"T_8ede3_row4_col2\" class=\"data row4 col2\" >more full</td>\n",
       "      <td id=\"T_8ede3_row4_col3\" class=\"data row4 col3\" >In a quaint town where the cobblestone streets whispered tales of yesteryears, Adrian and Ricardo found common ground in their sartorial affection, a fervent admiration...</td>\n",
       "      <td id=\"T_8ede3_row4_col4\" class=\"data row4 col4\" >more full</td>\n",
       "      <td id=\"T_8ede3_row4_col5\" class=\"data row4 col5\" >✔️ [True]</td>\n",
       "    </tr>\n",
       "  </tbody>\n",
       "</table>\n"
      ],
      "text/plain": [
       "<pandas.io.formats.style.Styler at 0x154fb7bd0>"
      ]
     },
     "metadata": {},
     "output_type": "display_data"
    },
    {
     "data": {
      "text/html": [
       "\n",
       "                <div style='\n",
       "                    text-align: center; \n",
       "                    font-size: 16px; \n",
       "                    font-weight: bold; \n",
       "                    color: #555; \n",
       "                    margin: 10px 0;'>\n",
       "                    ... 5 more rows not displayed ...\n",
       "                </div>\n",
       "                "
      ],
      "text/plain": [
       "<IPython.core.display.HTML object>"
      ]
     },
     "metadata": {},
     "output_type": "display_data"
    },
    {
     "name": "stdout",
     "output_type": "stream",
     "text": [
      "## Score for uncompiled Baleen: 70.0\n",
      "## Score for compiled Baleen: 90.0\n"
     ]
    }
   ],
   "source": [
    "from dspy.evaluate.evaluate import Evaluate\n",
    "\n",
    "# Set up the `evaluate_on_hotpotqa` function. We'll use this many times below.\n",
    "evaluate_on_opentom = Evaluate(devset=test[:10], num_threads=1, display_progress=True, display_table=5)\n",
    "\n",
    "uncompiled_baleen_retrieval_score = evaluate_on_opentom(uncompiled_baleen, metric=metric, display=False)\n",
    "\n",
    "compiled_baleen_retrieval_score = evaluate_on_opentom(compiled_baleen, metric=metric)\n",
    "\n",
    "print(f\"## Score for uncompiled Baleen: {uncompiled_baleen_retrieval_score}\")\n",
    "print(f\"## Score for compiled Baleen: {compiled_baleen_retrieval_score}\")"
   ]
  }
 ],
 "metadata": {
  "kernelspec": {
   "display_name": ".venv",
   "language": "python",
   "name": "python3"
  },
  "language_info": {
   "codemirror_mode": {
    "name": "ipython",
    "version": 3
   },
   "file_extension": ".py",
   "mimetype": "text/x-python",
   "name": "python",
   "nbconvert_exporter": "python",
   "pygments_lexer": "ipython3",
   "version": "3.11.5"
  }
 },
 "nbformat": 4,
 "nbformat_minor": 2
}
